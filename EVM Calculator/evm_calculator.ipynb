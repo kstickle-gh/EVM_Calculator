{
 "cells": [
  {
   "cell_type": "code",
   "execution_count": 1,
   "id": "b6a47738-4da2-48f5-b325-61f07dbdb09e",
   "metadata": {},
   "outputs": [
    {
     "name": "stdout",
     "output_type": "stream",
     "text": [
      "EVM Visualization Tool - Successfully Loaded!\n",
      "==================================================\n"
     ]
    }
   ],
   "source": [
    "# Cell 1: Setup and Imports\n",
    "\"\"\"\n",
    "System EVM Visualization Tool\n",
    "=============================\n",
    "\n",
    "This notebook provides an interactive tool for calculating and visualizing EVM bathtub curves \n",
    "of RF receiver architectures based on cascaded signal chain elements.\n",
    "\n",
    "Features:\n",
    "- Interactive signal chain configuration with live updates\n",
    "- Component selection from CSV libraries  \n",
    "- Real-time signal chain parameter analysis\n",
    "- Comprehensive performance display\n",
    "\"\"\"\n",
    "\n",
    "import numpy as np\n",
    "import pandas as pd\n",
    "import matplotlib.pyplot as plt\n",
    "import ipywidgets as widgets\n",
    "from IPython.display import display, clear_output\n",
    "import os\n",
    "import sys\n",
    "\n",
    "# Import our custom modules\n",
    "from rf_components import DSA, GainBlock, Mixer, LOBlock, ADC\n",
    "from evm_calculations import SystemCalculator\n",
    "from visualization import create_signal_chain_analyzer\n",
    "from utils import get_available_components\n",
    "\n",
    "# Set up matplotlib for interactive plotting\n",
    "%matplotlib widget\n",
    "plt.style.use('default')\n",
    "\n",
    "print(\"EVM Visualization Tool - Successfully Loaded!\")\n",
    "print(\"=\" * 50)\n"
   ]
  },
  {
   "cell_type": "code",
   "execution_count": 6,
   "id": "b19b3cf4-9013-4744-97cf-bb7fcc6d35a7",
   "metadata": {},
   "outputs": [
    {
     "name": "stdout",
     "output_type": "stream",
     "text": [
      "Component Library Status:\n",
      "----------------------------------------\n",
      "Gain Blocks    : 8 files found\n",
      "  └─ att_20dB.csv\n",
      "  └─ att_3dB.csv\n",
      "  └─ att_5dB.csv\n",
      "  └─ ... and 5 more\n",
      "\n",
      "Mixers         : 3 files found\n",
      "  └─ mix_ideal.csv\n",
      "  └─ mix_HMC8193.csv\n",
      "  └─ mix_LTC5594.csv\n",
      "\n",
      "LO Blocks      : 3 files found\n",
      "  └─ LO_poor.csv\n",
      "  └─ LO_ADF4383.csv\n",
      "  └─ LO_ideal.csv\n",
      "\n",
      "ADCs           : 2 files found\n",
      "  └─ adc_XCZU65.csv\n",
      "  └─ adc_ideal.csv\n",
      "\n"
     ]
    }
   ],
   "source": [
    "# Cell 2: Check Component Libraries\n",
    "\"\"\"\n",
    "Component Library Status\n",
    "========================\n",
    "Check if component CSV files are available in the expected directories.\n",
    "\"\"\"\n",
    "\n",
    "def check_component_libraries():\n",
    "    \"\"\"Check and display available component libraries\"\"\"\n",
    "    \n",
    "    component_types = ['Gain Blocks', 'Mixers', 'LO Blocks', 'ADCs']\n",
    "    \n",
    "    print(\"Component Library Status:\")\n",
    "    print(\"-\" * 40)\n",
    "    \n",
    "    for comp_type in component_types:\n",
    "        components = get_available_components(comp_type)\n",
    "        print(f\"{comp_type:15}: {len(components)} files found\")\n",
    "        \n",
    "        if components:\n",
    "            for comp in components[:3]:  # Show first 3 files\n",
    "                print(f\"  └─ {comp}\")\n",
    "            if len(components) > 3:\n",
    "                print(f\"  └─ ... and {len(components)-3} more\")\n",
    "        else:\n",
    "            print(f\"  └─ No files found in ./Components/{comp_type}/\")\n",
    "        print()\n",
    "\n",
    "check_component_libraries()"
   ]
  },
  {
   "cell_type": "code",
   "execution_count": 7,
   "id": "ffaca297-3813-46ce-854f-7ca9f01f93ea",
   "metadata": {},
   "outputs": [
    {
     "name": "stdout",
     "output_type": "stream",
     "text": [
      "Launching Interactive Signal Chain Analyzer...\n",
      "==================================================\n"
     ]
    },
    {
     "data": {
      "application/vnd.jupyter.widget-view+json": {
       "model_id": "ecfbef00cd6842aba66450d69d4bc28f",
       "version_major": 2,
       "version_minor": 0
      },
      "text/plain": [
       "HBox(children=(VBox(children=(HTML(value='<h3>System Parameters</h3>'), FloatText(value=8.0, description='RF F…"
      ]
     },
     "metadata": {},
     "output_type": "display_data"
    },
    {
     "name": "stdout",
     "output_type": "stream",
     "text": [
      "\n",
      "Instructions:\n",
      "1. Configure system parameters on the left\n",
      "2. Select signal chain components in the middle column\n",
      "3. View live updates of signal power, noise, distortion, IPN, and EVM on the right\n",
      "4. Use radio buttons to select active coarse gain block\n",
      "5. All parameters update automatically when inputs change\n"
     ]
    }
   ],
   "source": [
    "# Cell 3: Interactive Signal Chain Analysis\n",
    "\"\"\"\n",
    "Interactive Signal Chain Analysis\n",
    "================================\n",
    "Configure system parameters and signal chain components with live parameter updates.\n",
    "\"\"\"\n",
    "\n",
    "print(\"Launching Interactive Signal Chain Analyzer...\")\n",
    "print(\"=\" * 50)\n",
    "\n",
    "# Create and display the analyzer\n",
    "analyzer = create_signal_chain_analyzer()\n",
    "analyzer.display()\n",
    "\n",
    "print(\"\\nInstructions:\")\n",
    "print(\"1. Configure system parameters on the left\")\n",
    "print(\"2. Select signal chain components in the middle column\")\n",
    "print(\"3. View live updates of signal power, noise, distortion, IPN, and EVM on the right\")\n",
    "print(\"4. Use radio buttons to select active coarse gain block\")\n",
    "print(\"5. All parameters update automatically when inputs change\")"
   ]
  },
  {
   "cell_type": "code",
   "execution_count": 9,
   "id": "7d0ba7cb-7b7c-4545-8a97-d4ccd7c4c1f1",
   "metadata": {},
   "outputs": [
    {
     "data": {
      "application/vnd.jupyter.widget-view+json": {
       "model_id": "97e174ef1644460487f8800ff15daba8",
       "version_major": 2,
       "version_minor": 0
      },
      "text/plain": [
       "VBox(children=(HTML(value='<h3>EVM Bathtub Curve Analysis</h3>'), HTML(value='Generate EVM vs input power curv…"
      ]
     },
     "metadata": {},
     "output_type": "display_data"
    }
   ],
   "source": [
    "# Cell 4: EVM Bathtub Curves Analysis\n",
    "\"\"\"\n",
    "EVM Bathtub Curves Analysis\n",
    "==========================\n",
    "Generate EVM vs input power curves for all coarse gain states\n",
    "\"\"\"\n",
    "\n",
    "from bathtub_analysis import generate_bathtub_analysis, create_bathtub_analysis_widget\n",
    "\n",
    "# Create interactive bathtub analysis widget\n",
    "bathtub_widget = create_bathtub_analysis_widget(analyzer)\n",
    "display(bathtub_widget)"
   ]
  },
  {
   "cell_type": "code",
   "execution_count": null,
   "id": "b70f174f-5daa-4b4f-933e-4341b57a4b34",
   "metadata": {},
   "outputs": [],
   "source": []
  }
 ],
 "metadata": {
  "kernelspec": {
   "display_name": "Python 3 (ipykernel)",
   "language": "python",
   "name": "python3"
  },
  "language_info": {
   "codemirror_mode": {
    "name": "ipython",
    "version": 3
   },
   "file_extension": ".py",
   "mimetype": "text/x-python",
   "name": "python",
   "nbconvert_exporter": "python",
   "pygments_lexer": "ipython3",
   "version": "3.8.19"
  }
 },
 "nbformat": 4,
 "nbformat_minor": 5
}
