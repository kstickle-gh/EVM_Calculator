{
 "cells": [
  {
   "cell_type": "code",
   "execution_count": null,
   "id": "b6a47738-4da2-48f5-b325-61f07dbdb09e",
   "metadata": {},
   "outputs": [],
   "source": [
    "# Cell 1: Setup and Imports\n",
    "\"\"\"\n",
    "System EVM Visualization Tool\n",
    "=============================\n",
    "\n",
    "This notebook provides an interactive tool for calculating and visualizing EVM bathtub curves \n",
    "of RF receiver architectures based on cascaded signal chain elements.\n",
    "\n",
    "Features:\n",
    "- Interactive signal chain configuration with live updates\n",
    "- Component selection from CSV libraries  \n",
    "- Real-time signal chain parameter analysis\n",
    "- Comprehensive performance display\n",
    "\"\"\"\n",
    "\n",
    "import numpy as np\n",
    "import pandas as pd\n",
    "import matplotlib.pyplot as plt\n",
    "import ipywidgets as widgets\n",
    "from IPython.display import display, clear_output\n",
    "import os\n",
    "import sys\n",
    "\n",
    "# Import our custom modules\n",
    "from rf_components import DSA, GainBlock, Mixer, LOBlock, ADC\n",
    "from evm_calculations import SystemCalculator\n",
    "from visualization import create_signal_chain_analyzer\n",
    "from bathtub_analysis import generate_bathtub_analysis\n",
    "from frequency_response import generate_frequency_response_analysis\n",
    "from utils import get_available_components, check_component_libraries\n",
    "from multi_frequency_envelope import display_multi_frequency_envelope\n",
    "\n",
    "# Set up matplotlib for interactive plotting\n",
    "%matplotlib widget\n",
    "plt.style.use('default')\n",
    "\n",
    "print(\"EVM Visualization Tool - Successfully Loaded!\")\n",
    "print(\"=\" * 50)\n",
    "check_component_libraries()"
   ]
  },
  {
   "cell_type": "code",
   "execution_count": null,
   "id": "ffaca297-3813-46ce-854f-7ca9f01f93ea",
   "metadata": {},
   "outputs": [],
   "source": [
    "# Cell 2: Interactive Signal Chain Analysis\n",
    "\n",
    "# Create and display the analyzer\n",
    "analyzer = create_signal_chain_analyzer()\n",
    "analyzer.display()"
   ]
  },
  {
   "cell_type": "code",
   "execution_count": null,
   "id": "b70f174f-5daa-4b4f-933e-4341b57a4b34",
   "metadata": {},
   "outputs": [],
   "source": [
    "# Cell 3: RF Frequency Response Analysis\n",
    "\n",
    "# Set frequency parameters directly\n",
    "freq_start = 2      # Start frequency in GHz\n",
    "freq_stop = 9.0     # Stop frequency in GHz  \n",
    "freq_step = 0.2     # Step size in GHz\n",
    "\n",
    "# Generate frequency response analysis\n",
    "generate_frequency_response_analysis(analyzer, freq_start, freq_stop, freq_step)"
   ]
  },
  {
   "cell_type": "code",
   "execution_count": null,
   "id": "7d0ba7cb-7b7c-4545-8a97-d4ccd7c4c1f1",
   "metadata": {},
   "outputs": [],
   "source": [
    "# Cell 5: EVM Bathtub Curves Analysis\n",
    "\n",
    "# Set bathtub analysis parameters directly\n",
    "pmin = -40      # Minimum power in dBm\n",
    "pmax = 25       # Maximum power in dBm  \n",
    "dsa_step = 5    # DSA step size in dB\n",
    "\n",
    "# Generate EVM bathtub curves analysis\n",
    "generate_bathtub_analysis(analyzer, pmin, pmax, dsa_step)"
   ]
  },
  {
   "cell_type": "code",
   "execution_count": null,
   "id": "88371434-d5c1-43e5-b6d7-55c410ecbc33",
   "metadata": {},
   "outputs": [],
   "source": [
    "# Cell 6: Multi-Frequency EVM Envelope Analysis\n",
    "\n",
    "# Set analysis parameters\n",
    "pmin = -40      # Minimum power in dBm\n",
    "pmax = 25       # Maximum power in dBm  \n",
    "dsa_step = 5    # DSA step size in dB\n",
    "\n",
    "# Define frequency combinations as a list of (RF_GHz, IF_GHz) tuples\n",
    "frequency_combinations = [\n",
    "    (9.0, 0.0),      # RF1=9GHz, IF1=0GHz\n",
    "    (8.0, 0.0),      # RF2=8GHz, IF2=0GHz\n",
    "    (7.0, 0.0),      # RF3=7GHz, IF3=0GHz\n",
    "    (6.0, 0.0),      # RF4=6GHz, IF4=0GHz\n",
    "    (5.0, 0.0),      # RF5=5GHz, IF5=0GHz\n",
    "    (4.0, 0.0),      # RF6=4GHz, IF6=0GHz\n",
    "    (3.0, 0.0),      # RF7=3GHz, IF7=0GHz\n",
    "    (2.0, 0.0),      # RF8=2GHz, IF8=0GHz\n",
    "    (1.99, 1.99),    # RF9=1.99GHz, IF9=1.99GHz\n",
    "    (0.5, 0.5)       # RF10=0.5GHz, IF10=0.5GHz\n",
    "]\n",
    "# Generate and display the multi-frequency envelope analysis\n",
    "display_multi_frequency_envelope(analyzer, frequency_combinations, pmin, pmax, dsa_step)"
   ]
  },
  {
   "cell_type": "code",
   "execution_count": null,
   "id": "f02b183b-2c52-4859-89b8-a6c8944322b0",
   "metadata": {},
   "outputs": [],
   "source": []
  }
 ],
 "metadata": {
  "kernelspec": {
   "display_name": "Python 3 (ipykernel)",
   "language": "python",
   "name": "python3"
  },
  "language_info": {
   "codemirror_mode": {
    "name": "ipython",
    "version": 3
   },
   "file_extension": ".py",
   "mimetype": "text/x-python",
   "name": "python",
   "nbconvert_exporter": "python",
   "pygments_lexer": "ipython3",
   "version": "3.8.19"
  }
 },
 "nbformat": 4,
 "nbformat_minor": 5
}
